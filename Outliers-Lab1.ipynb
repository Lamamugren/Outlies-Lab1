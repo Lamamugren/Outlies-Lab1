{
 "cells": [
  {
   "cell_type": "markdown",
   "id": "timely-involvement",
   "metadata": {},
   "source": [
    "### Import your librares"
   ]
  },
  {
   "cell_type": "code",
   "execution_count": 1,
   "id": "dramatic-briefs",
   "metadata": {},
   "outputs": [],
   "source": [
    "import pandas as pd\n",
    "import matplotlib.pyplot as plt"
   ]
  },
  {
   "cell_type": "markdown",
   "id": "australian-softball",
   "metadata": {},
   "source": [
    "### Load your dataset"
   ]
  },
  {
   "cell_type": "code",
   "execution_count": 2,
   "id": "average-recipient",
   "metadata": {},
   "outputs": [],
   "source": [
    "data = pd.read_csv(\"seattle_weather.csv\")"
   ]
  },
  {
   "cell_type": "code",
   "execution_count": 28,
   "id": "cb4edc8f",
   "metadata": {},
   "outputs": [
    {
     "data": {
      "text/html": [
       "<div>\n",
       "<style scoped>\n",
       "    .dataframe tbody tr th:only-of-type {\n",
       "        vertical-align: middle;\n",
       "    }\n",
       "\n",
       "    .dataframe tbody tr th {\n",
       "        vertical-align: top;\n",
       "    }\n",
       "\n",
       "    .dataframe thead th {\n",
       "        text-align: right;\n",
       "    }\n",
       "</style>\n",
       "<table border=\"1\" class=\"dataframe\">\n",
       "  <thead>\n",
       "    <tr style=\"text-align: right;\">\n",
       "      <th></th>\n",
       "      <th>DATE</th>\n",
       "      <th>PRCP</th>\n",
       "      <th>TMAX</th>\n",
       "      <th>TMIN</th>\n",
       "      <th>RAIN</th>\n",
       "    </tr>\n",
       "  </thead>\n",
       "  <tbody>\n",
       "    <tr>\n",
       "      <th>0</th>\n",
       "      <td>1948-01-01</td>\n",
       "      <td>0.47</td>\n",
       "      <td>51</td>\n",
       "      <td>42</td>\n",
       "      <td>True</td>\n",
       "    </tr>\n",
       "    <tr>\n",
       "      <th>1</th>\n",
       "      <td>1948-01-02</td>\n",
       "      <td>0.59</td>\n",
       "      <td>45</td>\n",
       "      <td>36</td>\n",
       "      <td>True</td>\n",
       "    </tr>\n",
       "    <tr>\n",
       "      <th>2</th>\n",
       "      <td>1948-01-03</td>\n",
       "      <td>0.42</td>\n",
       "      <td>45</td>\n",
       "      <td>35</td>\n",
       "      <td>True</td>\n",
       "    </tr>\n",
       "    <tr>\n",
       "      <th>3</th>\n",
       "      <td>1948-01-04</td>\n",
       "      <td>0.31</td>\n",
       "      <td>45</td>\n",
       "      <td>34</td>\n",
       "      <td>True</td>\n",
       "    </tr>\n",
       "    <tr>\n",
       "      <th>4</th>\n",
       "      <td>1948-01-05</td>\n",
       "      <td>0.17</td>\n",
       "      <td>45</td>\n",
       "      <td>32</td>\n",
       "      <td>True</td>\n",
       "    </tr>\n",
       "  </tbody>\n",
       "</table>\n",
       "</div>"
      ],
      "text/plain": [
       "         DATE  PRCP  TMAX  TMIN  RAIN\n",
       "0  1948-01-01  0.47    51    42  True\n",
       "1  1948-01-02  0.59    45    36  True\n",
       "2  1948-01-03  0.42    45    35  True\n",
       "3  1948-01-04  0.31    45    34  True\n",
       "4  1948-01-05  0.17    45    32  True"
      ]
     },
     "execution_count": 28,
     "metadata": {},
     "output_type": "execute_result"
    }
   ],
   "source": [
    "data.head()"
   ]
  },
  {
   "cell_type": "markdown",
   "id": "monthly-meter",
   "metadata": {},
   "source": [
    "### Repeat the following steps for each column within outliers\n",
    "\n",
    "* Visualize the outliers\n",
    "* Detect if your data set contains any outliers\n",
    "* Identify lower & higher limit of outliers\n",
    "* Drop all outliers\n",
    "* Visualize the column after processing\n"
   ]
  },
  {
   "cell_type": "code",
   "execution_count": 14,
   "id": "15ae84b7",
   "metadata": {},
   "outputs": [
    {
     "data": {
      "image/png": "[encoded data removed]",
      "text/plain": [
       "<Figure size 640x480 with 1 Axes>"
      ]
     },
     "metadata": {},
     "output_type": "display_data"
    }
   ],
   "source": [
    "import matplotlib.pyplot as plt \n",
    "\n",
    "plt.boxplot(data[\"TMAX\"])\n",
    "\n",
    "plt.show()"
   ]
  },
  {
   "cell_type": "markdown",
   "id": "advisory-press",
   "metadata": {},
   "source": [
    "second"
   ]
  },
  {
   "cell_type": "code",
   "execution_count": 22,
   "id": "enhanced-forge",
   "metadata": {},
   "outputs": [
    {
     "name": "stdout",
     "output_type": "stream",
     "text": [
      "             DATE  PRCP  TMAX  TMIN   RAIN\n",
      "743    1950-01-13  1.27    19    11   True\n",
      "744    1950-01-14  0.16    16     8   True\n",
      "745    1950-01-15  0.02    21    15   True\n",
      "761    1950-01-31  0.00    20     0  False\n",
      "1419   1951-11-20  0.08     4    39   True\n",
      "2872   1955-11-12  0.00    21    13  False\n",
      "4603   1960-08-08  0.00    98    66  False\n",
      "4604   1960-08-09  0.00    99    59  False\n",
      "6194   1964-12-16  0.00    20    10  False\n",
      "7167   1967-08-16  0.00    98    59  False\n",
      "7668   1968-12-29  0.00    17     8  False\n",
      "7669   1968-12-30  0.15    18     6   True\n",
      "11519  1979-07-16  0.00    98    63  False\n",
      "12274  1981-08-09  0.00    99    68  False\n",
      "12275  1981-08-10  0.00    98    67  False\n",
      "14855  1988-09-02  0.00    98    59  False\n",
      "15008  1989-02-02  0.01    18    11   True\n",
      "15009  1989-02-03  0.00    20    10  False\n",
      "15694  1990-12-20  0.00    21    14  False\n",
      "15695  1990-12-21  0.00    20    12  False\n",
      "15909  1991-07-23  0.00    99    65  False\n",
      "17002  1994-07-20  0.00   100    65  False\n",
      "21741  2007-07-11  0.00    98    61  False\n",
      "22490  2009-07-29  0.00   103    71  False\n"
     ]
    }
   ],
   "source": [
    "import numpy as np\n",
    "\n",
    "# assuming 'data' is your DataFrame and 'column_name' is the name of the column you want to check for outliers\n",
    "q1 = data[\"TMAX\"].quantile(0.25)\n",
    "q3 = data[\"TMAX\"].quantile(0.75)\n",
    "iqr = q3 - q1\n",
    "lower_limit = q1 - 1.5 * iqr\n",
    "upper_limit = q3 + 1.5 * iqr\n",
    "outliers = data[(data[\"TMAX\"] < lower_limit) | (data[\"TMAX\"] > upper_limit)]\n",
    "print(outliers)"
   ]
  },
  {
   "cell_type": "markdown",
   "id": "compatible-source",
   "metadata": {},
   "source": []
  },
  {
   "cell_type": "code",
   "execution_count": 23,
   "id": "professional-error",
   "metadata": {
    "scrolled": true
   },
   "outputs": [
    {
     "name": "stdout",
     "output_type": "stream",
     "text": [
      "Lower limit: 21.5\n",
      "Upper limit: 97.5\n"
     ]
    }
   ],
   "source": [
    "# lower limit and upper limit are already calculated in step 2\n",
    "print(\"Lower limit:\", lower_limit)\n",
    "print(\"Upper limit:\", upper_limit)"
   ]
  },
  {
   "cell_type": "code",
   "execution_count": 26,
   "id": "daily-crime",
   "metadata": {},
   "outputs": [],
   "source": [
    "# assuming 'data' is your DataFrame and 'column_name' is the name of the column you want to drop outliers from\n",
    "data = data[(data[\"TMAX\"] >= lower_limit) & (data[\"TMAX\"] <= upper_limit)]"
   ]
  },
  {
   "cell_type": "code",
   "execution_count": 27,
   "id": "ee95001f",
   "metadata": {},
   "outputs": [
    {
     "data": {
      "image/png": "[encoded data removed]",
      "text/plain": [
       "<Figure size 640x480 with 1 Axes>"
      ]
     },
     "metadata": {},
     "output_type": "display_data"
    }
   ],
   "source": [
    "# assuming 'data' is your DataFrame and 'column_name' is the name of the column you want to visualize after processing\n",
    "plt.boxplot(data[\"TMAX\"])\n",
    "plt.show()"
   ]
  }
 ],
 "metadata": {
  "kernelspec": {
   "display_name": "Python 3 (ipykernel)",
   "language": "python",
   "name": "python3"
  },
  "language_info": {
   "codemirror_mode": {
    "name": "ipython",
    "version": 3
   },
   "file_extension": ".py",
   "mimetype": "text/x-python",
   "name": "python",
   "nbconvert_exporter": "python",
   "pygments_lexer": "ipython3",
   "version": "3.9.13"
  }
 },
 "nbformat": 4,
 "nbformat_minor": 5
}
